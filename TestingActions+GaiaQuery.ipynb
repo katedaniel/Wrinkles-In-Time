{
 "cells": [
  {
   "cell_type": "markdown",
   "metadata": {},
   "source": [
    "# Playing w Actions\n",
    "adapted (mostly copied) from Wilma Trick's NB found here: https://github.com/wilmatrick/GaiaSprint/blob/master/Action_Galpy_Tutorial.ipynb"
   ]
  },
  {
   "cell_type": "markdown",
   "metadata": {},
   "source": [
    "## Calculate action for one star"
   ]
  },
  {
   "cell_type": "markdown",
   "metadata": {},
   "source": [
    "### Kinematics of star"
   ]
  },
  {
   "cell_type": "code",
   "execution_count": 1,
   "metadata": {},
   "outputs": [],
   "source": [
    "import numpy as np\n",
    "\n",
    "#Position of stars:\n",
    "ra_deg  = np.array([7.7750132145]) #right ascension [rad] in ICRS\n",
    "dec_deg = np.array([-26.8097293548]) #declination [rad] in ICRS\n",
    "d_kpc   = np.array([890.547792917])/1000.  #distance from Sun [kpc]\n",
    "\n",
    "#Velocity of stars:\n",
    "pm_ra_masyr  = np.array([24.965]) #proper motion in direction of right ascension [mas/yr] in ICRS\n",
    "pm_dec_masyr = np.array([-9.683]) #proper motion in direction of declination [mas/yr] in ICRS\n",
    "v_los_kms    = np.array([-4.351]) #line-of-sight velocity [km/s]"
   ]
  },
  {
   "cell_type": "markdown",
   "metadata": {},
   "source": [
    "### Take into account position of the sun"
   ]
  },
  {
   "cell_type": "code",
   "execution_count": 2,
   "metadata": {},
   "outputs": [],
   "source": [
    "#Galactocentric position of the Sun:\n",
    "X_GC_sun_kpc = 8.    #[kpc]\n",
    "Z_GC_sun_kpc = 0.025 #[kpc] (e.g. Juric et al. 2008)\n",
    "#Velocity of the Sun w.r.t. the Local Standard of Rest (e.g. Schoenrich et al. 2009):\n",
    "U_LSR_kms = 11.1  # [km/s]\n",
    "V_LSR_kms = 12.24 # [km/s]\n",
    "W_LSR_kms = 7.25  # [km/s]\n",
    "#circular velocity of the Galactic potential at the radius of the Sun:\n",
    "vcirc_kms = 220. #[km/s] (e.g. Bovy 2015)\n",
    "#Galactocentric velocity of the Sun:\n",
    "vX_GC_sun_kms = -U_LSR_kms           # = -U              [km/s]\n",
    "vY_GC_sun_kms =  V_LSR_kms+vcirc_kms # = V+v_circ(R_Sun) [km/s]\n",
    "vZ_GC_sun_kms =  W_LSR_kms           # = W               [km/s]"
   ]
  },
  {
   "cell_type": "markdown",
   "metadata": {},
   "source": [
    "### Transform Star's Kinematics into Galactic Coords"
   ]
  },
  {
   "cell_type": "code",
   "execution_count": 3,
   "metadata": {},
   "outputs": [
    {
     "name": "stdout",
     "output_type": "stream",
     "text": [
      "/Users/kjdaniel/anaconda3/envs/physics/lib/python3.8/site-packages/galpy/util/bovy_coords.py:6: FutureWarning: galpy.util.bovy_coords is being deprecated in favor of galpy.util.coords; all functions in there are the same; please switch to the new import, because the old import will be removed in v1.9\n",
      "  warnings.warn('galpy.util.bovy_coords is being deprecated in favor of galpy.util.coords; all functions in there are the same; please switch to the new import, because the old import will be removed in v1.9',FutureWarning)\n",
      "\n",
      "galpy ICRS:\t\t(l,b) =\t\t [35.79648236] [-85.45759503]  [deg]\n",
      "galpy ICRS:\t\t(pm_l,pm_b) =\t [-7.39325713] [-25.73618975]  [mas/yr]\n"
     ]
    }
   ],
   "source": [
    "#Transformation to Galactic sky coordinates:\n",
    "from galpy.util import coords\n",
    "from galpy.util import bovy_coords\n",
    "#_____(ra,dec) --> Galactic coordinates (l,b):_____\n",
    "lb = bovy_coords.radec_to_lb(\n",
    "                ra_deg,dec_deg,\n",
    "                degree=True,\n",
    "                epoch=None\n",
    "                )\n",
    "l_deg = lb[:,0]\n",
    "b_deg = lb[:,1]\n",
    "print(\"galpy ICRS:\\t\\t(l,b) =\\t\\t\",l_deg,b_deg,\" [deg]\")\n",
    "\n",
    "#_____(pm_ra,pm_dec) --> (pm_l,pm_b)_____\n",
    "pmlpmb = bovy_coords.pmrapmdec_to_pmllpmbb(\n",
    "                    pm_ra_masyr,\n",
    "                    pm_dec_masyr,\n",
    "                    ra_deg,dec_deg,\n",
    "                    degree=True,\n",
    "                    epoch=None\n",
    "                    )\n",
    "pml_masyr = pmlpmb[:,0]\n",
    "pmb_masyr = pmlpmb[:,1]\n",
    "print(\"galpy ICRS:\\t\\t(pm_l,pm_b) =\\t\",pml_masyr,pmb_masyr,\" [mas/yr]\")"
   ]
  },
  {
   "cell_type": "code",
   "execution_count": 4,
   "metadata": {},
   "outputs": [
    {
     "name": "stdout",
     "output_type": "stream",
     "text": [
      "Galactic coordinates as calculated by galpy:\n",
      "R   =  [7.94567453] \t kpc\n",
      "phi =  [0.00519203] \t rad\n",
      "z   =  [-0.86292487] \t kpc\n",
      "v_R =  [59.5281265] \t km/s\n",
      "v_T =  [143.06611117] \t km/s\n",
      "v_z =  [3.20086297] \t km/s\n"
     ]
    }
   ],
   "source": [
    "#_____(l,b,d) --> Galactic, heliocentric cartesian coordinates (X,Y,Z)_____\n",
    "xyz = bovy_coords.lbd_to_XYZ(\n",
    "                l_deg,b_deg,\n",
    "                d_kpc,\n",
    "                degree=True)\n",
    "X_HC_kpc = xyz[:,0]\n",
    "Y_HC_kpc = xyz[:,1]\n",
    "Z_HC_kpc = xyz[:,2]\n",
    "\n",
    "#_____(v_los,pm_l,pm_b) & (l,b,d) --> (vx,vy,vz)______\n",
    "vxvyvz = bovy_coords.vrpmllpmbb_to_vxvyvz(\n",
    "                v_los_kms,\n",
    "                pml_masyr,pmb_masyr,\n",
    "                l_deg,b_deg,\n",
    "                d_kpc,\n",
    "                XYZ=False,degree=True\n",
    "                )\n",
    "U_HC_kms = vxvyvz[:,0]\n",
    "V_HC_kms = vxvyvz[:,1]\n",
    "W_HC_kms = vxvyvz[:,2]\n",
    "# use this to go to cylindrical coords used in Trick+19\n",
    "#______(X,Y,Z) --> Galactic, Galactocentric cylindrical coordinates (R,phi,z)______:\n",
    "Rzphi= bovy_coords.XYZ_to_galcencyl(\n",
    "                X_HC_kpc, Y_HC_kpc, Z_HC_kpc, \n",
    "                Xsun=X_GC_sun_kpc,Zsun=Z_GC_sun_kpc\n",
    "                )\n",
    "R_kpc   = Rzphi[:,0]\n",
    "phi_rad = Rzphi[:,1]\n",
    "z_kpc   = Rzphi[:,2]\n",
    "\n",
    "#______(vx,vy,vz) & (x,y,z) --> (vR,vT,vz)______\n",
    "vRvTvZ = bovy_coords.vxvyvz_to_galcencyl(\n",
    "                U_HC_kms, \n",
    "                V_HC_kms, \n",
    "                W_HC_kms, \n",
    "                R_kpc,\n",
    "                phi_rad, \n",
    "                z_kpc,\n",
    "                Xsun=X_GC_sun_kpc,Zsun=Z_GC_sun_kpc,\n",
    "                vsun=[vX_GC_sun_kms,vY_GC_sun_kms,vZ_GC_sun_kms], \n",
    "                galcen=True\n",
    "                )\n",
    "vR_kms = vRvTvZ[:,0]\n",
    "vT_kms = vRvTvZ[:,1]\n",
    "vz_kms = vRvTvZ[:,2]\n",
    "print(\"Galactic coordinates as calculated by galpy:\")\n",
    "print(\"R   = \",R_kpc  ,\"\\t kpc\")\n",
    "print(\"phi = \",phi_rad,\"\\t rad\")\n",
    "print(\"z   = \",z_kpc  ,\"\\t kpc\")\n",
    "print(\"v_R = \",vR_kms ,\"\\t km/s\")\n",
    "print(\"v_T = \",vT_kms ,\"\\t km/s\")\n",
    "print(\"v_z = \",vz_kms ,\"\\t km/s\")"
   ]
  },
  {
   "cell_type": "markdown",
   "metadata": {},
   "source": [
    "### Import MW Potential and switch to corresponding scale units "
   ]
  },
  {
   "cell_type": "code",
   "execution_count": 5,
   "metadata": {},
   "outputs": [],
   "source": [
    "from galpy.potential import MWPotential2014 as pot\n",
    "#galpy scale units:\n",
    "_REFR0 = 8.   #[kpc]  --> galpy length unit\n",
    "_REFV0 = 220. #[km/s] --> galpy velocity unit"
   ]
  },
  {
   "cell_type": "code",
   "execution_count": 6,
   "metadata": {},
   "outputs": [],
   "source": [
    "R   = R_kpc    / _REFR0 #Galactocentric radius\n",
    "vR  = vR_kms   / _REFV0 #radial velocity\n",
    "phi = phi_rad             #Galactocentric azimuth angle (not needed for actions in axisymmetric potential)\n",
    "vT  = vT_kms / _REFV0 #tangential velocity\n",
    "z   = z_kpc   / _REFR0 #height above plane\n",
    "vz  = vz_kms  / _REFV0 #vertical velocity"
   ]
  },
  {
   "cell_type": "markdown",
   "metadata": {},
   "source": [
    "### Calculate actions for star "
   ]
  },
  {
   "cell_type": "code",
   "execution_count": 7,
   "metadata": {},
   "outputs": [],
   "source": [
    "from galpy.actionAngle import actionAngleStaeckel\n",
    "\n",
    "aAS = actionAngleStaeckel(\n",
    "        pot   = pot,        #potential\n",
    "        delta = 0.45,       #focal length of confocal coordinate system\n",
    "        c     = True        #use C code (for speed)\n",
    "        )"
   ]
  },
  {
   "cell_type": "code",
   "execution_count": 8,
   "metadata": {},
   "outputs": [
    {
     "name": "stdout",
     "output_type": "stream",
     "text": [
      "Radial   action  J_R =  [154.57044449] \t kpc km/s\n",
      "Vertical action  J_z =  [18.64692214] \t kpc km/s\n",
      "Angular momentum L_z =  [1136.75675502] \t kpc km/s\n"
     ]
    }
   ],
   "source": [
    "jR,lz,jz = aAS(R,vR,vT,z,vz)\n",
    "print(\"Radial   action  J_R = \", jR*_REFR0*_REFV0,\"\\t kpc km/s\")\n",
    "print(\"Vertical action  J_z = \", jz*_REFR0*_REFV0,\"\\t kpc km/s\")\n",
    "print(\"Angular momentum L_z = \", lz*_REFR0*_REFV0,\"\\t kpc km/s\")"
   ]
  },
  {
   "cell_type": "code",
   "execution_count": null,
   "metadata": {},
   "outputs": [],
   "source": []
  },
  {
   "cell_type": "markdown",
   "metadata": {},
   "source": [
    "## Query Gaia Stars + Kinematics with Radial Velocities and Parallax Cuts from Trick '18\n",
    "\"We restrict our analysis therefore to the 3,872,301 stars within 1.5 kpc (with positive parallaxes) of which the vast majority have relative parallax uncertainties δ$/$ <0.05\" \n",
    "\n",
    "I have not included the uncertainty cut! "
   ]
  },
  {
   "cell_type": "code",
   "execution_count": 45,
   "metadata": {},
   "outputs": [
    {
     "name": "stdout",
     "output_type": "stream",
     "text": [
      "/Users/kjdaniel/anaconda3/envs/physics/lib/python3.8/site-packages/astroquery-0.4.7.dev7834-py3.8.egg/astroquery/utils/tap/taputils.py:269: UserWarning: By default, results in \"votable\", \"ecsv\" and \"fits\" format are returned in compressed format therefore your file output.dat will be renamed to output.dat.gz\n",
      "  warnings.warn('By default, results in \"votable\", \"ecsv\" and \"fits\" format are returned in '\n",
      "\n",
      "Launched query: '\n",
      "        SELECT TOP 5000 \n",
      "        ra,dec, source_id, parallax,parallax_error, parallax_over_error, phot_g_mean_mag, phot_bp_mean_mag, phot_bp_mean_flux, phot_bp_mean_flux_error, phot_bp_mean_flux_over_error, phot_rp_mean_mag, PMRA, PMDEC,dr2_radial_velocity\n",
      "        FROM gaiaedr3.gaia_source\n",
      "        WHERE parallax>0.6666667 AND parallax<=400 AND dr2_radial_velocity IS NOT NULL\n",
      "        ORDER BY source_id\n",
      "'\n",
      "------>https\n",
      "host = gea.esac.esa.int:443\n",
      "context = /tap-server/tap/async\n",
      "Content-type = application/x-www-form-urlencoded\n",
      "303 303\n",
      "[('Date', 'Thu, 19 May 2022 18:40:31 GMT'), ('Server', 'Apache/2.4.6 (CentOS) OpenSSL/1.0.2k-fips PHP/5.4.16 mod_jk/1.2.43'), ('Cache-Control', 'no-cache, no-store, max-age=0, must-revalidate'), ('Pragma', 'no-cache'), ('Expires', '0'), ('X-XSS-Protection', '1; mode=block'), ('X-Frame-Options', 'SAMEORIGIN'), ('X-Content-Type-Options', 'nosniff'), ('Set-Cookie', 'JSESSIONID=95F4B6BF7546D85366D6B9D0FA7BF8C9; Path=/tap-server; Secure; HttpOnly'), ('Location', 'https://gea.esac.esa.int/tap-server/tap/async/1652985631362O'), ('Transfer-Encoding', 'chunked'), ('Content-Type', 'text/plain;charset=ISO-8859-1')]\n",
      "job 1652985631362O, at: https://gea.esac.esa.int/tap-server/tap/async/1652985631362O\n",
      "Retrieving async. results...\n",
      "Job 1652985631362O status: EXECUTING\n",
      "Job 1652985631362O status: COMPLETED\n",
      "200 200\n",
      "[('Date', 'Thu, 19 May 2022 18:40:33 GMT'), ('Server', 'Apache/2.4.6 (CentOS) OpenSSL/1.0.2k-fips PHP/5.4.16 mod_jk/1.2.43'), ('Cache-Control', 'no-cache, no-store, max-age=0, must-revalidate'), ('Pragma', 'no-cache'), ('Expires', '0'), ('X-XSS-Protection', '1; mode=block'), ('X-Frame-Options', 'SAMEORIGIN'), ('X-Content-Type-Options', 'nosniff'), ('Set-Cookie', 'JSESSIONID=13E02452F6A65662A7659441E1D667FF; Path=/tap-server; Secure; HttpOnly'), ('Content-Encoding', 'gzip'), ('Content-Disposition', 'attachment;filename=\"1652985631362O-result.vot\"'), ('Content-Length', '447636'), ('Content-Type', 'application/x-votable+xml')]\n",
      "Saving results to: output.dat\n"
     ]
    }
   ],
   "source": [
    "from astropy.table import Table\n",
    "from astroquery.gaia import Gaia\n",
    "\n",
    "\n",
    "    \n",
    "query = \"\"\"\n",
    "        SELECT TOP 5000 \n",
    "        ra,dec, source_id, parallax,parallax_error, parallax_over_error, phot_g_mean_mag, phot_bp_mean_mag, phot_bp_mean_flux, phot_bp_mean_flux_error, phot_bp_mean_flux_over_error, phot_rp_mean_mag, PMRA, PMDEC,dr2_radial_velocity\n",
    "        FROM gaiaedr3.gaia_source\n",
    "        WHERE parallax>0.6666667 AND parallax<=400 AND dr2_radial_velocity IS NOT NULL\n",
    "        ORDER BY source_id\n",
    "\"\"\"\n",
    "\n",
    "\n",
    "Gaia.launch_job(query)\n",
    "j = Gaia.launch_job(query)\n",
    "j.get_results()\n",
    "\n",
    "filename ='output.dat'\n",
    "Gaia.launch_job_async(query, output_file=filename,dump_to_file=True, verbose=True)\n",
    "results = Table.read(filename)"
   ]
  },
  {
   "cell_type": "code",
   "execution_count": 46,
   "metadata": {},
   "outputs": [],
   "source": [
    "# dataframe with kinematics\n",
    "df = results.to_pandas()\n",
    "df.columns\n",
    "ra_deg  = df['ra'].values #right ascension [rad] in ICRS\n",
    "dec_deg = df['dec'].values #declination [rad] in ICRS\n",
    "d_kpc   = 1/df['parallax'].values  #distance from Sun [kpc]\n",
    "\n",
    "#Velocity of stars:\n",
    "pm_ra_masyr  = df['pmra'].values #proper motion in direction of right ascension [mas/yr] in ICRS\n",
    "pm_dec_masyr = df['pmdec'].values #proper motion in direction of declination [mas/yr] in ICRS\n",
    "v_los_kms    = df['dr2_radial_velocity'].values #line-of-sight velocity [km/s]"
   ]
  },
  {
   "cell_type": "markdown",
   "metadata": {},
   "source": [
    "### Calculate Queried Stars' Actions "
   ]
  },
  {
   "cell_type": "code",
   "execution_count": 47,
   "metadata": {},
   "outputs": [
    {
     "name": "stdout",
     "output_type": "stream",
     "text": [
      "galpy ICRS:\t\t(l,b) =\t\t [176.94973103 176.88327717 176.74043403 ... 168.86786472 169.91700465\n",
      " 169.88957007] [-48.71183619 -48.77234411 -48.71441142 ... -35.49976475 -35.47392859\n",
      " -35.30702558]  [deg]\n"
     ]
    }
   ],
   "source": [
    "lb = bovy_coords.radec_to_lb(\n",
    "                ra_deg,dec_deg,\n",
    "                degree=True,\n",
    "                epoch=None\n",
    "                )\n",
    "l_deg = lb[:,0]\n",
    "b_deg = lb[:,1]\n",
    "print(\"galpy ICRS:\\t\\t(l,b) =\\t\\t\",l_deg,b_deg,\" [deg]\")\n",
    "\n",
    "#_____(pm_ra,pm_dec) --> (pm_l,pm_b)_____\n",
    "pmlpmb = bovy_coords.pmrapmdec_to_pmllpmbb(\n",
    "                    pm_ra_masyr,\n",
    "                    pm_dec_masyr,\n",
    "                    ra_deg,dec_deg,\n",
    "                    degree=True,\n",
    "                    epoch=None\n",
    "                    )\n",
    "pml_masyr = pmlpmb[:,0]\n",
    "pmb_masyr = pmlpmb[:,1]\n",
    "xyz = bovy_coords.lbd_to_XYZ(\n",
    "                l_deg,b_deg,\n",
    "                d_kpc,\n",
    "                degree=True)\n",
    "X_HC_kpc = xyz[:,0]\n",
    "Y_HC_kpc = xyz[:,1]\n",
    "Z_HC_kpc = xyz[:,2]\n",
    "\n",
    "#_____(v_los,pm_l,pm_b) & (l,b,d) --> (vx,vy,vz)______\n",
    "vxvyvz = bovy_coords.vrpmllpmbb_to_vxvyvz(\n",
    "                v_los_kms,\n",
    "                pml_masyr,pmb_masyr,\n",
    "                l_deg,b_deg,\n",
    "                d_kpc,\n",
    "                XYZ=False,degree=True\n",
    "                )\n",
    "U_HC_kms = vxvyvz[:,0]\n",
    "V_HC_kms = vxvyvz[:,1]\n",
    "W_HC_kms = vxvyvz[:,2]\n",
    "# use this to go to cylindrical coords used in Trick+19\n",
    "#______(X,Y,Z) --> Galactic, Galactocentric cylindrical coordinates (R,phi,z)______:\n",
    "Rzphi= bovy_coords.XYZ_to_galcencyl(\n",
    "                X_HC_kpc, Y_HC_kpc, Z_HC_kpc, \n",
    "                Xsun=X_GC_sun_kpc,Zsun=Z_GC_sun_kpc\n",
    "                )\n",
    "R_kpc   = Rzphi[:,0]\n",
    "phi_rad = Rzphi[:,1]\n",
    "z_kpc   = Rzphi[:,2]\n",
    "\n",
    "#______(vx,vy,vz) & (x,y,z) --> (vR,vT,vz)______\n",
    "vRvTvZ = bovy_coords.vxvyvz_to_galcencyl(\n",
    "                U_HC_kms, \n",
    "                V_HC_kms, \n",
    "                W_HC_kms, \n",
    "                R_kpc,\n",
    "                phi_rad, \n",
    "                z_kpc,\n",
    "                Xsun=X_GC_sun_kpc,Zsun=Z_GC_sun_kpc,\n",
    "                vsun=[vX_GC_sun_kms,vY_GC_sun_kms,vZ_GC_sun_kms], \n",
    "                galcen=True\n",
    "                )\n",
    "vR_kms = vRvTvZ[:,0]\n",
    "vT_kms = vRvTvZ[:,1]\n",
    "vz_kms = vRvTvZ[:,2]\n",
    "\n",
    "R   = R_kpc    / _REFR0 #Galactocentric radius\n",
    "vR  = vR_kms   / _REFV0 #radial velocity\n",
    "phi = phi_rad             #Galactocentric azimuth angle (not needed for actions in axisymmetric potential)\n",
    "vT  = vT_kms / _REFV0 #tangential velocity\n",
    "z   = z_kpc   / _REFR0 #height above plane\n",
    "vz  = vz_kms  / _REFV0 #vertical velocity\n",
    "aAS = actionAngleStaeckel(\n",
    "        pot   = pot,        #potential\n",
    "        delta = 0.45,       #focal length of confocal coordinate system\n",
    "        c     = True        #use C code (for speed)\n",
    "        )\n",
    "jR,lz,jz = aAS(R,vR,vT,z,vz)\n",
    "#print(\"Radial   action  J_R = \", jR*_REFR0*_REFV0,\"\\t kpc km/s\")\n",
    "#print(\"Vertical action  J_z = \", jz*_REFR0*_REFV0,\"\\t kpc km/s\")\n",
    "#print(\"Angular momentum L_z = \", lz*_REFR0*_REFV0,\"\\t kpc km/s\")"
   ]
  },
  {
   "cell_type": "markdown",
   "metadata": {},
   "source": [
    "### Rough Plot  of Actions of Stars with Approx. Same Limits from Trick '18 Figure 6 "
   ]
  },
  {
   "cell_type": "code",
   "execution_count": 48,
   "metadata": {},
   "outputs": [
    {
     "data": {
      "image/png": "[encoded data removed]",
      "text/plain": [
       "<Figure size 576x360 with 1 Axes>"
      ]
     },
     "metadata": {
      "needs_background": "light"
     },
     "output_type": "display_data"
    }
   ],
   "source": [
    "import matplotlib.pyplot as plt\n",
    "%matplotlib inline\n",
    "plt.figure(figsize=(8,5))\n",
    "plt.plot(jz*_REFR0*_REFV0,np.sqrt(jR*_REFR0*_REFV0),'.')\n",
    "plt.xlim(0.6,1.2)\n",
    "plt.ylim(0,12)\n",
    "plt.xlabel('JZ')\n",
    "plt.ylabel('Sqrt(JR)');"
   ]
  },
  {
   "cell_type": "code",
   "execution_count": 52,
   "metadata": {},
   "outputs": [
    {
     "data": {
      "image/png": "[encoded data removed]",
      "text/plain": [
       "<Figure size 576x360 with 1 Axes>"
      ]
     },
     "metadata": {
      "needs_background": "light"
     },
     "output_type": "display_data"
    }
   ],
   "source": [
    "plt.figure(figsize=(8,5))\n",
    "plt.plot(lz*_REFR0*_REFV0,(jR*_REFR0*_REFV0),'.')\n",
    "plt.xlim(1600,2000)\n",
    "plt.ylim(0,12)\n",
    "plt.xlabel('Lz')\n",
    "plt.ylabel('JR');"
   ]
  },
  {
   "cell_type": "code",
   "execution_count": null,
   "metadata": {},
   "outputs": [],
   "source": []
  }
 ],
 "metadata": {
  "kernelspec": {
   "display_name": "Python 3",
   "language": "python",
   "name": "python3"
  },
  "language_info": {
   "codemirror_mode": {
    "name": "ipython",
    "version": 3
   },
   "file_extension": ".py",
   "mimetype": "text/x-python",
   "name": "python",
   "nbconvert_exporter": "python",
   "pygments_lexer": "ipython3",
   "version": "3.8.1"
  }
 },
 "nbformat": 4,
 "nbformat_minor": 4
}
