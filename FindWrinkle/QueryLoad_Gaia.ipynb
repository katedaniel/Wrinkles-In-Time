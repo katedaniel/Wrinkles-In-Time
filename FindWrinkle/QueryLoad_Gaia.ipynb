{
 "cells": [
  {
   "cell_type": "code",
   "execution_count": 6,
   "metadata": {},
   "outputs": [
    {
     "name": "stdout",
     "output_type": "stream",
     "text": [
      "galpy ICRS:\t\t(l,b) =\t\t [284.40325366 284.18137024 283.69737566 ... 328.30527031 328.19364708\n",
      " 328.0293963 ] [-42.17353469 -42.06969755 -41.41008782 ...  11.45664917  11.49115086\n",
      "  11.56669137]  [deg]\n"
     ]
    }
   ],
   "source": [
    "%run Imports_General.ipynb\n",
    "%run Imports_galpy.ipynb\n",
    "%run DiskModel.ipynb\n",
    "\n",
    "infile = open(\"DataDump/Actions_500pc.pickle\",\"rb\")\n",
    "dict = pickle.load(infile)\n",
    "\n",
    "pot = mwp\n",
    "\n",
    "%run GaiaSetup.ipynb"
   ]
  }
 ],
 "metadata": {
  "kernelspec": {
   "display_name": "Python 3",
   "language": "python",
   "name": "python3"
  },
  "language_info": {
   "codemirror_mode": {
    "name": "ipython",
    "version": 3
   },
   "file_extension": ".py",
   "mimetype": "text/x-python",
   "name": "python",
   "nbconvert_exporter": "python",
   "pygments_lexer": "ipython3",
   "version": "3.8.1"
  }
 },
 "nbformat": 4,
 "nbformat_minor": 4
}
