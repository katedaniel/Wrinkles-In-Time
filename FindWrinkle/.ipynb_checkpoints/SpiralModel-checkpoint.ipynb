{
 "cells": [
  {
   "cell_type": "code",
   "execution_count": null,
   "metadata": {},
   "outputs": [],
   "source": [
    "###############################\n",
    "### SPIRAL MODEL PARAMETERS ###\n",
    "###############################\n",
    "\n",
    "### SET THESE important parameters for evaluation of model\n",
    "\n",
    "Reval = 1.          # radius at which to evaluate potential (put in natural units)\n",
    "pdeg = 30.          # pitch angle of the logarithmic spiral arms in degrees\n",
    "CRs = 2.1            # corotation radius (put in natural units)\n",
    "efrac = 0.3\n",
    "epsilonSigma = evaluateDensities(mwp,CRs,0.)*efrac  # fractional amplitude of the surface density for spiral strength\n",
    "\n",
    "##############################\n",
    "### SPIRAL POTENTIAL SETUP ###\n",
    "##############################\n",
    "\n",
    "### Set up 3D transient spiral potential\n",
    "\n",
    "def degtorad(tdeg): # Convert from degrees to radians\n",
    "    return tdeg *(2.*np.pi/360.) \n",
    " \n",
    "# Setup spiral potential from Cox & Gomez (2001)\n",
    "As = epsilonSigma           # amplitude of potential\n",
    "Narms = 4                   # number of spiral arms\n",
    "alpharad = degtorad(pdeg)   # pitch angle of the logarithmic spiral arms in radians \n",
    "rref = CRs                  # fiducial radius where rho=rhoo (ro)\n",
    "phiref = 0.                 # reference angle phi_p(ro)\n",
    "Rscale = 0.3                # radial scale length of the drop-off in density amplitude of the arms\n",
    "zscale = 0.0375             # scale height of the stellar arm perturbation (can be Quantity)\n",
    "v_c = vcirc(mwp,R=CRs)      # v_circ at corotation radius (R in [natunits])\n",
    "omegas = v_c/CRs            # rotational pattern speed of the spiral arms (can be Quantity) #1./CRs (original)\n",
    "Cslist = [1]                # list of constants multiplying the cos(n gamma) terms\n",
    "\n",
    "sp = SpiralArmsPotential(amp=As,N=Narms,alpha=alpharad,\n",
    "                         r_ref=rref,phi_ref=phiref,\n",
    "                         Rs=Rscale,H=zscale,omega=omegas,\n",
    "                         Cs=Cslist)\n",
    "\n",
    "# Initialized transient spiral as Gaussian growth and decay \n",
    "spiT = 2.*np.pi/omegas # Period of rotation for the spiral\n",
    "tinat = 0.             # Start time\n",
    "As = 1.                # amplitude to be applied to the potential \n",
    "\n",
    "Npeak = 2 # spiT to evolve and then peak spiral\n",
    "Nsigma = 1 # standard deviation of the Gaussian (one spiral period)\n",
    "Nequil = 2 # spiT after peak to stop evolution to equilibrate\n",
    "\n",
    "sigmat = Nsigma*spiT       # standard deviation of the Gaussian (one spiral period) \n",
    "to= Npeak*spiT             # Gaussian amplitude peaks at to (peaks at Npeak spiral periods after t=0)\n",
    "\n",
    "stp = GaussianAmplitudeWrapperPotential(amp=As, pot=sp, to=to, sigma=sigmat)\n",
    "#have this definition copied to code box right before orbit integration for loop also, or will throw an error\n",
    "\n",
    "simname = 'R'+str(int(CRs*ro))+'_e'+str(efrac)+'_m'+str(Narms)+'_t'+str(int(pdeg))"
   ]
  }
 ],
 "metadata": {
  "kernelspec": {
   "display_name": "Python 3",
   "language": "python",
   "name": "python3"
  },
  "language_info": {
   "codemirror_mode": {
    "name": "ipython",
    "version": 3
   },
   "file_extension": ".py",
   "mimetype": "text/x-python",
   "name": "python",
   "nbconvert_exporter": "python",
   "pygments_lexer": "ipython3",
   "version": "3.8.1"
  }
 },
 "nbformat": 4,
 "nbformat_minor": 4
}
