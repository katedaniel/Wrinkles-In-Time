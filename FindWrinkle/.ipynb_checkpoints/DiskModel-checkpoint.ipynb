{
 "cells": [
  {
   "cell_type": "code",
   "execution_count": null,
   "metadata": {},
   "outputs": [],
   "source": [
    "### Important scale factors\n",
    "\n",
    "# Scales to be use for conversion from natural coordinates\n",
    "# AND to be used for Solar values for observational query conversion\n",
    "ro = 8. # (kpc) scale radii\n",
    "vo = 220. #(km/s) scale velocity at ro\n",
    "\n",
    "# Set model parameters for potentials and DF:\n",
    "hro  = 1./3.   # Scale length for surface density\n",
    "sro  = 0.16    # Radial velocity dispersion at ro in natural coordinates (times vo to get in physical at ro)\n",
    "szo  = sro/2   # Vertical velocity dispersion at ro in natural coordinates (times vo to get in physical at ro)\n",
    "hsro = 3./4.     # Radial scale length for radial velocity dispersion profile\n",
    "hszo = hsro    # Radial scale length for vertical velocity dispersion profile\n",
    "AAType = 'stklAA' # Action Angle approx for ICs\n",
    "\n",
    "### Set up underlying initial axi-symmetric potential for the disk\n",
    "\n",
    "dpType = 'MW14'\n",
    "mwp = MWPotential2014"
   ]
  }
 ],
 "metadata": {
  "kernelspec": {
   "display_name": "Python 3",
   "language": "python",
   "name": "python3"
  },
  "language_info": {
   "codemirror_mode": {
    "name": "ipython",
    "version": 3
   },
   "file_extension": ".py",
   "mimetype": "text/x-python",
   "name": "python",
   "nbconvert_exporter": "python",
   "pygments_lexer": "ipython3",
   "version": "3.8.1"
  }
 },
 "nbformat": 4,
 "nbformat_minor": 4
}
