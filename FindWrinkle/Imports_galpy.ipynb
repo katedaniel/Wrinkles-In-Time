{
 "cells": [
  {
   "cell_type": "code",
   "execution_count": null,
   "metadata": {},
   "outputs": [],
   "source": [
    "import galpy\n",
    "\n",
    "import galpy.df\n",
    "\n",
    "from galpy.orbit import Orbit\n",
    "\n",
    "from galpy.potential import MWPotential2014\n",
    "from galpy.potential import SpiralArmsPotential\n",
    "from galpy.potential import vcirc, lindbladR, epifreq\n",
    "from galpy.potential import SoftenedNeedleBarPotential, DehnenBarPotential\n",
    "from galpy.potential import GaussianAmplitudeWrapperPotential, DehnenSmoothWrapperPotential #, TSolidBodyRotationWrapperPotential\n",
    "from galpy.potential import evaluatePotentials, evaluateDensities\n",
    "\n",
    "from galpy.actionAngle import actionAngleAdiabatic, actionAngleStaeckel\n",
    "\n",
    "from galpy.util import coords"
   ]
  }
 ],
 "metadata": {
  "kernelspec": {
   "display_name": "Python 3",
   "language": "python",
   "name": "python3"
  },
  "language_info": {
   "codemirror_mode": {
    "name": "ipython",
    "version": 3
   },
   "file_extension": ".py",
   "mimetype": "text/x-python",
   "name": "python",
   "nbconvert_exporter": "python",
   "pygments_lexer": "ipython3",
   "version": "3.8.1"
  }
 },
 "nbformat": 4,
 "nbformat_minor": 4
}
