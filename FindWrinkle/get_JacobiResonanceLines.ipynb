{
 "cells": [
  {
   "cell_type": "code",
   "execution_count": null,
   "metadata": {},
   "outputs": [],
   "source": [
    "#########################################################\n",
    "###############    Obtain Radial Action    ##############\n",
    "###############     from Jacobi Energy     ##############\n",
    "###############   at Primary Resonances    ##############\n",
    "#########################################################\n",
    "\n",
    "# Returns values in physical coordinates\n",
    "\n",
    "def getJRfromJacobienergy(Lz, m, omegas): \n",
    "\n",
    "    Lz = Lz*ro*vo\n",
    "    \n",
    "    OLR = lindbladR(Pot=pot, OmegaP=omegas, m=-m, ro=ro,vo=vo) # m being negative makes this an OLR; in physical units\n",
    "    ILR = lindbladR(Pot=pot, OmegaP=omegas, m=m, ro=ro,vo=vo) \n",
    "    CR  = lindbladR(Pot=pot, OmegaP=omegas, m='corotation', ro=ro,vo=vo)\n",
    "\n",
    "    pot_ILR = evaluatePotentials(pot, ILR, z=0, phi=0, ro=ro,vo=vo)\n",
    "    pot_OLR = evaluatePotentials(pot, OLR, z=0, phi=0, ro=ro,vo=vo)\n",
    "    pot_CR  = evaluatePotentials(pot, CR, z=0, phi=0, ro=ro,vo=vo)\n",
    "\n",
    "    kappa_ILR = epifreq(pot,R=ILR/ro,ro=ro,vo=vo)\n",
    "    kappa_OLR = epifreq(pot,R=OLR/ro,ro=ro,vo=vo)\n",
    "    kappa_CR  = epifreq(pot,R=CR/ro,ro=ro,vo=vo)\n",
    "\n",
    "    OmegaP = omegas*(vo/ro) #pattern speed at corotation\n",
    "\n",
    "    v_c_ILR    = vcirc(pot, R = ILR/ro, ro = ro, vo = vo) #in physical units\n",
    "    OmegaP_ILR = v_c_ILR/ILR\n",
    "\n",
    "    v_c_OLR    = vcirc(pot, R = OLR/ro, ro = ro, vo = vo) #in physical units\n",
    "    OmegaP_OLR = v_c_OLR/OLR\n",
    "\n",
    "    E_c_ILR = pot_ILR + (1/2)*vcirc(pot,R=ILR/ro,ro=ro,vo=vo)**2\n",
    "    E_c_OLR = pot_OLR + (1/2)*vcirc(pot,R=OLR/ro,ro=ro,vo=vo)**2\n",
    "    E_c_CR  = pot_CR + (1/2)*vcirc(pot,R=CR/ro,ro=ro,vo=vo)**2\n",
    "\n",
    "    y_intercept_ILR = OmegaP*ILR*vcirc(pot,R=ILR/ro,ro=ro,vo=vo)/kappa_ILR\n",
    "    y_intercept_OLR = OmegaP*OLR*vcirc(pot,R=OLR/ro,ro=ro,vo=vo)/kappa_OLR\n",
    "    y_intercept_CR  = OmegaP*CR*vcirc(pot,R=CR/ro,ro=ro,vo=vo)/kappa_CR\n",
    "\n",
    "    J_R_ILR = -y_intercept_ILR + (OmegaP*Lz)/kappa_ILR\n",
    "    J_R_OLR = -y_intercept_OLR + (OmegaP*Lz)/kappa_OLR\n",
    "    J_R_CR  = -y_intercept_CR + (OmegaP*Lz)/kappa_CR\n",
    "   \n",
    "    return J_R_ILR, J_R_CR, J_R_OLR"
   ]
  }
 ],
 "metadata": {
  "kernelspec": {
   "display_name": "Python 3",
   "language": "python",
   "name": "python3"
  },
  "language_info": {
   "codemirror_mode": {
    "name": "ipython",
    "version": 3
   },
   "file_extension": ".py",
   "mimetype": "text/x-python",
   "name": "python",
   "nbconvert_exporter": "python",
   "pygments_lexer": "ipython3",
   "version": "3.8.1"
  }
 },
 "nbformat": 4,
 "nbformat_minor": 4
}
